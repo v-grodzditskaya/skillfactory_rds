{
 "cells": [
  {
   "cell_type": "markdown",
   "metadata": {},
   "source": [
    "#### Grodzditskaya Victoria"
   ]
  },
  {
   "cell_type": "code",
   "execution_count": 2,
   "metadata": {},
   "outputs": [],
   "source": [
    "import pandas as pd\n",
    "import matplotlib.pyplot as plt\n",
    "import seaborn as sns\n",
    "from itertools import combinations\n",
    "from scipy.stats import ttest_ind\n",
    "\n",
    "pd.set_option('display.max_rows', 50)  # показывать больше строк\n",
    "pd.set_option('display.max_columns', 50)  # показывать больше колонок\n",
    "\n",
    "students = pd.read_csv('stud_math.csv')"
   ]
  },
  {
   "cell_type": "code",
   "execution_count": 3,
   "metadata": {
    "scrolled": true
   },
   "outputs": [
    {
     "data": {
      "text/html": [
       "<div>\n",
       "<style scoped>\n",
       "    .dataframe tbody tr th:only-of-type {\n",
       "        vertical-align: middle;\n",
       "    }\n",
       "\n",
       "    .dataframe tbody tr th {\n",
       "        vertical-align: top;\n",
       "    }\n",
       "\n",
       "    .dataframe thead th {\n",
       "        text-align: right;\n",
       "    }\n",
       "</style>\n",
       "<table border=\"1\" class=\"dataframe\">\n",
       "  <thead>\n",
       "    <tr style=\"text-align: right;\">\n",
       "      <th></th>\n",
       "      <th>school</th>\n",
       "      <th>sex</th>\n",
       "      <th>age</th>\n",
       "      <th>address</th>\n",
       "      <th>famsize</th>\n",
       "      <th>Pstatus</th>\n",
       "      <th>Medu</th>\n",
       "      <th>Fedu</th>\n",
       "      <th>Mjob</th>\n",
       "      <th>Fjob</th>\n",
       "      <th>reason</th>\n",
       "      <th>guardian</th>\n",
       "      <th>traveltime</th>\n",
       "      <th>studytime</th>\n",
       "      <th>failures</th>\n",
       "      <th>schoolsup</th>\n",
       "      <th>famsup</th>\n",
       "      <th>paid</th>\n",
       "      <th>activities</th>\n",
       "      <th>nursery</th>\n",
       "      <th>studytime, granular</th>\n",
       "      <th>higher</th>\n",
       "      <th>internet</th>\n",
       "      <th>romantic</th>\n",
       "      <th>famrel</th>\n",
       "      <th>freetime</th>\n",
       "      <th>goout</th>\n",
       "      <th>health</th>\n",
       "      <th>absences</th>\n",
       "      <th>score</th>\n",
       "    </tr>\n",
       "  </thead>\n",
       "  <tbody>\n",
       "    <tr>\n",
       "      <th>0</th>\n",
       "      <td>GP</td>\n",
       "      <td>F</td>\n",
       "      <td>18</td>\n",
       "      <td>U</td>\n",
       "      <td>NaN</td>\n",
       "      <td>A</td>\n",
       "      <td>4.0</td>\n",
       "      <td>4.0</td>\n",
       "      <td>at_home</td>\n",
       "      <td>teacher</td>\n",
       "      <td>course</td>\n",
       "      <td>mother</td>\n",
       "      <td>2.0</td>\n",
       "      <td>2.0</td>\n",
       "      <td>0.0</td>\n",
       "      <td>yes</td>\n",
       "      <td>no</td>\n",
       "      <td>no</td>\n",
       "      <td>no</td>\n",
       "      <td>yes</td>\n",
       "      <td>-6.0</td>\n",
       "      <td>yes</td>\n",
       "      <td>NaN</td>\n",
       "      <td>no</td>\n",
       "      <td>4.0</td>\n",
       "      <td>3.0</td>\n",
       "      <td>4.0</td>\n",
       "      <td>3.0</td>\n",
       "      <td>6.0</td>\n",
       "      <td>30.0</td>\n",
       "    </tr>\n",
       "    <tr>\n",
       "      <th>1</th>\n",
       "      <td>GP</td>\n",
       "      <td>F</td>\n",
       "      <td>17</td>\n",
       "      <td>U</td>\n",
       "      <td>GT3</td>\n",
       "      <td>NaN</td>\n",
       "      <td>1.0</td>\n",
       "      <td>1.0</td>\n",
       "      <td>at_home</td>\n",
       "      <td>other</td>\n",
       "      <td>course</td>\n",
       "      <td>father</td>\n",
       "      <td>1.0</td>\n",
       "      <td>2.0</td>\n",
       "      <td>0.0</td>\n",
       "      <td>no</td>\n",
       "      <td>yes</td>\n",
       "      <td>no</td>\n",
       "      <td>no</td>\n",
       "      <td>no</td>\n",
       "      <td>-6.0</td>\n",
       "      <td>yes</td>\n",
       "      <td>yes</td>\n",
       "      <td>no</td>\n",
       "      <td>5.0</td>\n",
       "      <td>3.0</td>\n",
       "      <td>3.0</td>\n",
       "      <td>3.0</td>\n",
       "      <td>4.0</td>\n",
       "      <td>30.0</td>\n",
       "    </tr>\n",
       "    <tr>\n",
       "      <th>2</th>\n",
       "      <td>GP</td>\n",
       "      <td>F</td>\n",
       "      <td>15</td>\n",
       "      <td>U</td>\n",
       "      <td>LE3</td>\n",
       "      <td>T</td>\n",
       "      <td>1.0</td>\n",
       "      <td>1.0</td>\n",
       "      <td>at_home</td>\n",
       "      <td>other</td>\n",
       "      <td>other</td>\n",
       "      <td>mother</td>\n",
       "      <td>1.0</td>\n",
       "      <td>2.0</td>\n",
       "      <td>3.0</td>\n",
       "      <td>yes</td>\n",
       "      <td>no</td>\n",
       "      <td>NaN</td>\n",
       "      <td>no</td>\n",
       "      <td>yes</td>\n",
       "      <td>-6.0</td>\n",
       "      <td>yes</td>\n",
       "      <td>yes</td>\n",
       "      <td>NaN</td>\n",
       "      <td>4.0</td>\n",
       "      <td>3.0</td>\n",
       "      <td>2.0</td>\n",
       "      <td>3.0</td>\n",
       "      <td>10.0</td>\n",
       "      <td>50.0</td>\n",
       "    </tr>\n",
       "    <tr>\n",
       "      <th>3</th>\n",
       "      <td>GP</td>\n",
       "      <td>F</td>\n",
       "      <td>15</td>\n",
       "      <td>U</td>\n",
       "      <td>GT3</td>\n",
       "      <td>T</td>\n",
       "      <td>4.0</td>\n",
       "      <td>2.0</td>\n",
       "      <td>health</td>\n",
       "      <td>NaN</td>\n",
       "      <td>home</td>\n",
       "      <td>mother</td>\n",
       "      <td>1.0</td>\n",
       "      <td>3.0</td>\n",
       "      <td>0.0</td>\n",
       "      <td>no</td>\n",
       "      <td>yes</td>\n",
       "      <td>yes</td>\n",
       "      <td>yes</td>\n",
       "      <td>yes</td>\n",
       "      <td>-9.0</td>\n",
       "      <td>yes</td>\n",
       "      <td>yes</td>\n",
       "      <td>yes</td>\n",
       "      <td>3.0</td>\n",
       "      <td>2.0</td>\n",
       "      <td>2.0</td>\n",
       "      <td>5.0</td>\n",
       "      <td>2.0</td>\n",
       "      <td>75.0</td>\n",
       "    </tr>\n",
       "    <tr>\n",
       "      <th>4</th>\n",
       "      <td>GP</td>\n",
       "      <td>F</td>\n",
       "      <td>16</td>\n",
       "      <td>U</td>\n",
       "      <td>GT3</td>\n",
       "      <td>T</td>\n",
       "      <td>3.0</td>\n",
       "      <td>3.0</td>\n",
       "      <td>other</td>\n",
       "      <td>other</td>\n",
       "      <td>home</td>\n",
       "      <td>father</td>\n",
       "      <td>1.0</td>\n",
       "      <td>2.0</td>\n",
       "      <td>0.0</td>\n",
       "      <td>no</td>\n",
       "      <td>yes</td>\n",
       "      <td>yes</td>\n",
       "      <td>no</td>\n",
       "      <td>yes</td>\n",
       "      <td>-6.0</td>\n",
       "      <td>yes</td>\n",
       "      <td>no</td>\n",
       "      <td>no</td>\n",
       "      <td>4.0</td>\n",
       "      <td>3.0</td>\n",
       "      <td>2.0</td>\n",
       "      <td>5.0</td>\n",
       "      <td>4.0</td>\n",
       "      <td>50.0</td>\n",
       "    </tr>\n",
       "    <tr>\n",
       "      <th>5</th>\n",
       "      <td>GP</td>\n",
       "      <td>M</td>\n",
       "      <td>16</td>\n",
       "      <td>U</td>\n",
       "      <td>LE3</td>\n",
       "      <td>T</td>\n",
       "      <td>4.0</td>\n",
       "      <td>3.0</td>\n",
       "      <td>services</td>\n",
       "      <td>other</td>\n",
       "      <td>reputation</td>\n",
       "      <td>mother</td>\n",
       "      <td>1.0</td>\n",
       "      <td>2.0</td>\n",
       "      <td>0.0</td>\n",
       "      <td>no</td>\n",
       "      <td>yes</td>\n",
       "      <td>yes</td>\n",
       "      <td>yes</td>\n",
       "      <td>yes</td>\n",
       "      <td>-6.0</td>\n",
       "      <td>yes</td>\n",
       "      <td>yes</td>\n",
       "      <td>no</td>\n",
       "      <td>5.0</td>\n",
       "      <td>4.0</td>\n",
       "      <td>2.0</td>\n",
       "      <td>5.0</td>\n",
       "      <td>10.0</td>\n",
       "      <td>75.0</td>\n",
       "    </tr>\n",
       "    <tr>\n",
       "      <th>6</th>\n",
       "      <td>GP</td>\n",
       "      <td>M</td>\n",
       "      <td>16</td>\n",
       "      <td>NaN</td>\n",
       "      <td>LE3</td>\n",
       "      <td>T</td>\n",
       "      <td>2.0</td>\n",
       "      <td>2.0</td>\n",
       "      <td>other</td>\n",
       "      <td>other</td>\n",
       "      <td>home</td>\n",
       "      <td>mother</td>\n",
       "      <td>1.0</td>\n",
       "      <td>2.0</td>\n",
       "      <td>0.0</td>\n",
       "      <td>no</td>\n",
       "      <td>no</td>\n",
       "      <td>no</td>\n",
       "      <td>no</td>\n",
       "      <td>yes</td>\n",
       "      <td>-6.0</td>\n",
       "      <td>yes</td>\n",
       "      <td>yes</td>\n",
       "      <td>no</td>\n",
       "      <td>4.0</td>\n",
       "      <td>4.0</td>\n",
       "      <td>4.0</td>\n",
       "      <td>3.0</td>\n",
       "      <td>0.0</td>\n",
       "      <td>55.0</td>\n",
       "    </tr>\n",
       "    <tr>\n",
       "      <th>7</th>\n",
       "      <td>GP</td>\n",
       "      <td>F</td>\n",
       "      <td>17</td>\n",
       "      <td>U</td>\n",
       "      <td>GT3</td>\n",
       "      <td>A</td>\n",
       "      <td>4.0</td>\n",
       "      <td>4.0</td>\n",
       "      <td>other</td>\n",
       "      <td>teacher</td>\n",
       "      <td>home</td>\n",
       "      <td>mother</td>\n",
       "      <td>2.0</td>\n",
       "      <td>2.0</td>\n",
       "      <td>0.0</td>\n",
       "      <td>yes</td>\n",
       "      <td>yes</td>\n",
       "      <td>no</td>\n",
       "      <td>no</td>\n",
       "      <td>yes</td>\n",
       "      <td>-6.0</td>\n",
       "      <td>yes</td>\n",
       "      <td>no</td>\n",
       "      <td>no</td>\n",
       "      <td>4.0</td>\n",
       "      <td>1.0</td>\n",
       "      <td>4.0</td>\n",
       "      <td>1.0</td>\n",
       "      <td>6.0</td>\n",
       "      <td>30.0</td>\n",
       "    </tr>\n",
       "    <tr>\n",
       "      <th>8</th>\n",
       "      <td>GP</td>\n",
       "      <td>M</td>\n",
       "      <td>15</td>\n",
       "      <td>U</td>\n",
       "      <td>LE3</td>\n",
       "      <td>A</td>\n",
       "      <td>3.0</td>\n",
       "      <td>2.0</td>\n",
       "      <td>services</td>\n",
       "      <td>other</td>\n",
       "      <td>home</td>\n",
       "      <td>mother</td>\n",
       "      <td>1.0</td>\n",
       "      <td>2.0</td>\n",
       "      <td>0.0</td>\n",
       "      <td>no</td>\n",
       "      <td>yes</td>\n",
       "      <td>yes</td>\n",
       "      <td>no</td>\n",
       "      <td>yes</td>\n",
       "      <td>-6.0</td>\n",
       "      <td>yes</td>\n",
       "      <td>yes</td>\n",
       "      <td>no</td>\n",
       "      <td>NaN</td>\n",
       "      <td>2.0</td>\n",
       "      <td>2.0</td>\n",
       "      <td>1.0</td>\n",
       "      <td>0.0</td>\n",
       "      <td>95.0</td>\n",
       "    </tr>\n",
       "    <tr>\n",
       "      <th>9</th>\n",
       "      <td>GP</td>\n",
       "      <td>M</td>\n",
       "      <td>15</td>\n",
       "      <td>U</td>\n",
       "      <td>NaN</td>\n",
       "      <td>NaN</td>\n",
       "      <td>3.0</td>\n",
       "      <td>4.0</td>\n",
       "      <td>other</td>\n",
       "      <td>other</td>\n",
       "      <td>home</td>\n",
       "      <td>mother</td>\n",
       "      <td>1.0</td>\n",
       "      <td>2.0</td>\n",
       "      <td>0.0</td>\n",
       "      <td>no</td>\n",
       "      <td>yes</td>\n",
       "      <td>yes</td>\n",
       "      <td>yes</td>\n",
       "      <td>yes</td>\n",
       "      <td>-6.0</td>\n",
       "      <td>yes</td>\n",
       "      <td>yes</td>\n",
       "      <td>no</td>\n",
       "      <td>5.0</td>\n",
       "      <td>5.0</td>\n",
       "      <td>1.0</td>\n",
       "      <td>5.0</td>\n",
       "      <td>0.0</td>\n",
       "      <td>75.0</td>\n",
       "    </tr>\n",
       "  </tbody>\n",
       "</table>\n",
       "</div>"
      ],
      "text/plain": [
       "  school sex  age address famsize Pstatus  Medu  Fedu      Mjob     Fjob  \\\n",
       "0     GP   F   18       U     NaN       A   4.0   4.0   at_home  teacher   \n",
       "1     GP   F   17       U     GT3     NaN   1.0   1.0   at_home    other   \n",
       "2     GP   F   15       U     LE3       T   1.0   1.0   at_home    other   \n",
       "3     GP   F   15       U     GT3       T   4.0   2.0    health      NaN   \n",
       "4     GP   F   16       U     GT3       T   3.0   3.0     other    other   \n",
       "5     GP   M   16       U     LE3       T   4.0   3.0  services    other   \n",
       "6     GP   M   16     NaN     LE3       T   2.0   2.0     other    other   \n",
       "7     GP   F   17       U     GT3       A   4.0   4.0     other  teacher   \n",
       "8     GP   M   15       U     LE3       A   3.0   2.0  services    other   \n",
       "9     GP   M   15       U     NaN     NaN   3.0   4.0     other    other   \n",
       "\n",
       "       reason guardian  traveltime  studytime  failures schoolsup famsup paid  \\\n",
       "0      course   mother         2.0        2.0       0.0       yes     no   no   \n",
       "1      course   father         1.0        2.0       0.0        no    yes   no   \n",
       "2       other   mother         1.0        2.0       3.0       yes     no  NaN   \n",
       "3        home   mother         1.0        3.0       0.0        no    yes  yes   \n",
       "4        home   father         1.0        2.0       0.0        no    yes  yes   \n",
       "5  reputation   mother         1.0        2.0       0.0        no    yes  yes   \n",
       "6        home   mother         1.0        2.0       0.0        no     no   no   \n",
       "7        home   mother         2.0        2.0       0.0       yes    yes   no   \n",
       "8        home   mother         1.0        2.0       0.0        no    yes  yes   \n",
       "9        home   mother         1.0        2.0       0.0        no    yes  yes   \n",
       "\n",
       "  activities nursery  studytime, granular higher internet romantic  famrel  \\\n",
       "0         no     yes                 -6.0    yes      NaN       no     4.0   \n",
       "1         no      no                 -6.0    yes      yes       no     5.0   \n",
       "2         no     yes                 -6.0    yes      yes      NaN     4.0   \n",
       "3        yes     yes                 -9.0    yes      yes      yes     3.0   \n",
       "4         no     yes                 -6.0    yes       no       no     4.0   \n",
       "5        yes     yes                 -6.0    yes      yes       no     5.0   \n",
       "6         no     yes                 -6.0    yes      yes       no     4.0   \n",
       "7         no     yes                 -6.0    yes       no       no     4.0   \n",
       "8         no     yes                 -6.0    yes      yes       no     NaN   \n",
       "9        yes     yes                 -6.0    yes      yes       no     5.0   \n",
       "\n",
       "   freetime  goout  health  absences  score  \n",
       "0       3.0    4.0     3.0       6.0   30.0  \n",
       "1       3.0    3.0     3.0       4.0   30.0  \n",
       "2       3.0    2.0     3.0      10.0   50.0  \n",
       "3       2.0    2.0     5.0       2.0   75.0  \n",
       "4       3.0    2.0     5.0       4.0   50.0  \n",
       "5       4.0    2.0     5.0      10.0   75.0  \n",
       "6       4.0    4.0     3.0       0.0   55.0  \n",
       "7       1.0    4.0     1.0       6.0   30.0  \n",
       "8       2.0    2.0     1.0       0.0   95.0  \n",
       "9       5.0    1.0     5.0       0.0   75.0  "
      ]
     },
     "metadata": {},
     "output_type": "display_data"
    },
    {
     "name": "stdout",
     "output_type": "stream",
     "text": [
      "<class 'pandas.core.frame.DataFrame'>\n",
      "RangeIndex: 395 entries, 0 to 394\n",
      "Data columns (total 30 columns):\n",
      " #   Column               Non-Null Count  Dtype  \n",
      "---  ------               --------------  -----  \n",
      " 0   school               395 non-null    object \n",
      " 1   sex                  395 non-null    object \n",
      " 2   age                  395 non-null    int64  \n",
      " 3   address              378 non-null    object \n",
      " 4   famsize              368 non-null    object \n",
      " 5   Pstatus              350 non-null    object \n",
      " 6   Medu                 392 non-null    float64\n",
      " 7   Fedu                 371 non-null    float64\n",
      " 8   Mjob                 376 non-null    object \n",
      " 9   Fjob                 359 non-null    object \n",
      " 10  reason               378 non-null    object \n",
      " 11  guardian             364 non-null    object \n",
      " 12  traveltime           367 non-null    float64\n",
      " 13  studytime            388 non-null    float64\n",
      " 14  failures             373 non-null    float64\n",
      " 15  schoolsup            386 non-null    object \n",
      " 16  famsup               356 non-null    object \n",
      " 17  paid                 355 non-null    object \n",
      " 18  activities           381 non-null    object \n",
      " 19  nursery              379 non-null    object \n",
      " 20  studytime, granular  388 non-null    float64\n",
      " 21  higher               375 non-null    object \n",
      " 22  internet             361 non-null    object \n",
      " 23  romantic             364 non-null    object \n",
      " 24  famrel               368 non-null    float64\n",
      " 25  freetime             384 non-null    float64\n",
      " 26  goout                387 non-null    float64\n",
      " 27  health               380 non-null    float64\n",
      " 28  absences             383 non-null    float64\n",
      " 29  score                389 non-null    float64\n",
      "dtypes: float64(12), int64(1), object(17)\n",
      "memory usage: 92.7+ KB\n"
     ]
    }
   ],
   "source": [
    "display(students.head(10))\n",
    "students.info()"
   ]
  },
  {
   "cell_type": "markdown",
   "metadata": {},
   "source": [
    "Каждая колонка заполнена более чем на 88% (не менее 350 заполненных ячеек из 395). Соответственно, все характеристики можно использовать в анализе. "
   ]
  },
  {
   "cell_type": "code",
   "execution_count": 42,
   "metadata": {},
   "outputs": [
    {
     "data": {
      "text/html": [
       "<div>\n",
       "<style scoped>\n",
       "    .dataframe tbody tr th:only-of-type {\n",
       "        vertical-align: middle;\n",
       "    }\n",
       "\n",
       "    .dataframe tbody tr th {\n",
       "        vertical-align: top;\n",
       "    }\n",
       "\n",
       "    .dataframe thead th {\n",
       "        text-align: right;\n",
       "    }\n",
       "</style>\n",
       "<table border=\"1\" class=\"dataframe\">\n",
       "  <thead>\n",
       "    <tr style=\"text-align: right;\">\n",
       "      <th></th>\n",
       "      <th>sex</th>\n",
       "    </tr>\n",
       "  </thead>\n",
       "  <tbody>\n",
       "    <tr>\n",
       "      <th>F</th>\n",
       "      <td>177</td>\n",
       "    </tr>\n",
       "    <tr>\n",
       "      <th>M</th>\n",
       "      <td>152</td>\n",
       "    </tr>\n",
       "  </tbody>\n",
       "</table>\n",
       "</div>"
      ],
      "text/plain": [
       "   sex\n",
       "F  177\n",
       "M  152"
      ]
     },
     "execution_count": 42,
     "metadata": {},
     "output_type": "execute_result"
    }
   ],
   "source": [
    "pd.DataFrame(students.sex.value_counts())"
   ]
  },
  {
   "cell_type": "code",
   "execution_count": 5,
   "metadata": {},
   "outputs": [
    {
     "data": {
      "text/html": [
       "<div>\n",
       "<style scoped>\n",
       "    .dataframe tbody tr th:only-of-type {\n",
       "        vertical-align: middle;\n",
       "    }\n",
       "\n",
       "    .dataframe tbody tr th {\n",
       "        vertical-align: top;\n",
       "    }\n",
       "\n",
       "    .dataframe thead th {\n",
       "        text-align: right;\n",
       "    }\n",
       "</style>\n",
       "<table border=\"1\" class=\"dataframe\">\n",
       "  <thead>\n",
       "    <tr style=\"text-align: right;\">\n",
       "      <th></th>\n",
       "      <th>school</th>\n",
       "    </tr>\n",
       "  </thead>\n",
       "  <tbody>\n",
       "    <tr>\n",
       "      <th>GP</th>\n",
       "      <td>349</td>\n",
       "    </tr>\n",
       "    <tr>\n",
       "      <th>MS</th>\n",
       "      <td>46</td>\n",
       "    </tr>\n",
       "  </tbody>\n",
       "</table>\n",
       "</div>"
      ],
      "text/plain": [
       "    school\n",
       "GP     349\n",
       "MS      46"
      ]
     },
     "execution_count": 5,
     "metadata": {},
     "output_type": "execute_result"
    }
   ],
   "source": [
    "pd.DataFrame(students.school.value_counts())"
   ]
  },
  {
   "cell_type": "code",
   "execution_count": 61,
   "metadata": {},
   "outputs": [
    {
     "data": {
      "text/html": [
       "<div>\n",
       "<style scoped>\n",
       "    .dataframe tbody tr th:only-of-type {\n",
       "        vertical-align: middle;\n",
       "    }\n",
       "\n",
       "    .dataframe tbody tr th {\n",
       "        vertical-align: top;\n",
       "    }\n",
       "\n",
       "    .dataframe thead th {\n",
       "        text-align: right;\n",
       "    }\n",
       "</style>\n",
       "<table border=\"1\" class=\"dataframe\">\n",
       "  <thead>\n",
       "    <tr style=\"text-align: right;\">\n",
       "      <th></th>\n",
       "      <th>address</th>\n",
       "    </tr>\n",
       "  </thead>\n",
       "  <tbody>\n",
       "    <tr>\n",
       "      <th>U</th>\n",
       "      <td>247</td>\n",
       "    </tr>\n",
       "    <tr>\n",
       "      <th>R</th>\n",
       "      <td>70</td>\n",
       "    </tr>\n",
       "  </tbody>\n",
       "</table>\n",
       "</div>"
      ],
      "text/plain": [
       "   address\n",
       "U      247\n",
       "R       70"
      ]
     },
     "execution_count": 61,
     "metadata": {},
     "output_type": "execute_result"
    }
   ],
   "source": [
    "pd.DataFrame(students.address.value_counts())"
   ]
  },
  {
   "cell_type": "code",
   "execution_count": 62,
   "metadata": {},
   "outputs": [
    {
     "data": {
      "text/html": [
       "<div>\n",
       "<style scoped>\n",
       "    .dataframe tbody tr th:only-of-type {\n",
       "        vertical-align: middle;\n",
       "    }\n",
       "\n",
       "    .dataframe tbody tr th {\n",
       "        vertical-align: top;\n",
       "    }\n",
       "\n",
       "    .dataframe thead th {\n",
       "        text-align: right;\n",
       "    }\n",
       "</style>\n",
       "<table border=\"1\" class=\"dataframe\">\n",
       "  <thead>\n",
       "    <tr style=\"text-align: right;\">\n",
       "      <th></th>\n",
       "      <th>famsize</th>\n",
       "    </tr>\n",
       "  </thead>\n",
       "  <tbody>\n",
       "    <tr>\n",
       "      <th>GT3</th>\n",
       "      <td>221</td>\n",
       "    </tr>\n",
       "    <tr>\n",
       "      <th>LE3</th>\n",
       "      <td>87</td>\n",
       "    </tr>\n",
       "  </tbody>\n",
       "</table>\n",
       "</div>"
      ],
      "text/plain": [
       "     famsize\n",
       "GT3      221\n",
       "LE3       87"
      ]
     },
     "execution_count": 62,
     "metadata": {},
     "output_type": "execute_result"
    }
   ],
   "source": [
    "pd.DataFrame(students.famsize.value_counts())"
   ]
  },
  {
   "cell_type": "code",
   "execution_count": 63,
   "metadata": {},
   "outputs": [
    {
     "data": {
      "text/html": [
       "<div>\n",
       "<style scoped>\n",
       "    .dataframe tbody tr th:only-of-type {\n",
       "        vertical-align: middle;\n",
       "    }\n",
       "\n",
       "    .dataframe tbody tr th {\n",
       "        vertical-align: top;\n",
       "    }\n",
       "\n",
       "    .dataframe thead th {\n",
       "        text-align: right;\n",
       "    }\n",
       "</style>\n",
       "<table border=\"1\" class=\"dataframe\">\n",
       "  <thead>\n",
       "    <tr style=\"text-align: right;\">\n",
       "      <th></th>\n",
       "      <th>Pstatus</th>\n",
       "    </tr>\n",
       "  </thead>\n",
       "  <tbody>\n",
       "    <tr>\n",
       "      <th>T</th>\n",
       "      <td>263</td>\n",
       "    </tr>\n",
       "    <tr>\n",
       "      <th>A</th>\n",
       "      <td>27</td>\n",
       "    </tr>\n",
       "  </tbody>\n",
       "</table>\n",
       "</div>"
      ],
      "text/plain": [
       "   Pstatus\n",
       "T      263\n",
       "A       27"
      ]
     },
     "execution_count": 63,
     "metadata": {},
     "output_type": "execute_result"
    }
   ],
   "source": [
    "pd.DataFrame(students.Pstatus.value_counts())"
   ]
  },
  {
   "cell_type": "code",
   "execution_count": 64,
   "metadata": {},
   "outputs": [
    {
     "data": {
      "text/html": [
       "<div>\n",
       "<style scoped>\n",
       "    .dataframe tbody tr th:only-of-type {\n",
       "        vertical-align: middle;\n",
       "    }\n",
       "\n",
       "    .dataframe tbody tr th {\n",
       "        vertical-align: top;\n",
       "    }\n",
       "\n",
       "    .dataframe thead th {\n",
       "        text-align: right;\n",
       "    }\n",
       "</style>\n",
       "<table border=\"1\" class=\"dataframe\">\n",
       "  <thead>\n",
       "    <tr style=\"text-align: right;\">\n",
       "      <th></th>\n",
       "      <th>Mjob</th>\n",
       "    </tr>\n",
       "  </thead>\n",
       "  <tbody>\n",
       "    <tr>\n",
       "      <th>other</th>\n",
       "      <td>112</td>\n",
       "    </tr>\n",
       "    <tr>\n",
       "      <th>services</th>\n",
       "      <td>77</td>\n",
       "    </tr>\n",
       "    <tr>\n",
       "      <th>at_home</th>\n",
       "      <td>51</td>\n",
       "    </tr>\n",
       "    <tr>\n",
       "      <th>teacher</th>\n",
       "      <td>43</td>\n",
       "    </tr>\n",
       "    <tr>\n",
       "      <th>health</th>\n",
       "      <td>29</td>\n",
       "    </tr>\n",
       "  </tbody>\n",
       "</table>\n",
       "</div>"
      ],
      "text/plain": [
       "          Mjob\n",
       "other      112\n",
       "services    77\n",
       "at_home     51\n",
       "teacher     43\n",
       "health      29"
      ]
     },
     "execution_count": 64,
     "metadata": {},
     "output_type": "execute_result"
    }
   ],
   "source": [
    "pd.DataFrame(students.Mjob.value_counts())"
   ]
  },
  {
   "cell_type": "code",
   "execution_count": 65,
   "metadata": {},
   "outputs": [
    {
     "data": {
      "text/html": [
       "<div>\n",
       "<style scoped>\n",
       "    .dataframe tbody tr th:only-of-type {\n",
       "        vertical-align: middle;\n",
       "    }\n",
       "\n",
       "    .dataframe tbody tr th {\n",
       "        vertical-align: top;\n",
       "    }\n",
       "\n",
       "    .dataframe thead th {\n",
       "        text-align: right;\n",
       "    }\n",
       "</style>\n",
       "<table border=\"1\" class=\"dataframe\">\n",
       "  <thead>\n",
       "    <tr style=\"text-align: right;\">\n",
       "      <th></th>\n",
       "      <th>Fjob</th>\n",
       "    </tr>\n",
       "  </thead>\n",
       "  <tbody>\n",
       "    <tr>\n",
       "      <th>other</th>\n",
       "      <td>171</td>\n",
       "    </tr>\n",
       "    <tr>\n",
       "      <th>services</th>\n",
       "      <td>83</td>\n",
       "    </tr>\n",
       "    <tr>\n",
       "      <th>teacher</th>\n",
       "      <td>23</td>\n",
       "    </tr>\n",
       "    <tr>\n",
       "      <th>at_home</th>\n",
       "      <td>14</td>\n",
       "    </tr>\n",
       "    <tr>\n",
       "      <th>health</th>\n",
       "      <td>10</td>\n",
       "    </tr>\n",
       "  </tbody>\n",
       "</table>\n",
       "</div>"
      ],
      "text/plain": [
       "          Fjob\n",
       "other      171\n",
       "services    83\n",
       "teacher     23\n",
       "at_home     14\n",
       "health      10"
      ]
     },
     "execution_count": 65,
     "metadata": {},
     "output_type": "execute_result"
    }
   ],
   "source": [
    "pd.DataFrame(students.Fjob.value_counts())"
   ]
  },
  {
   "cell_type": "code",
   "execution_count": 66,
   "metadata": {},
   "outputs": [
    {
     "data": {
      "text/html": [
       "<div>\n",
       "<style scoped>\n",
       "    .dataframe tbody tr th:only-of-type {\n",
       "        vertical-align: middle;\n",
       "    }\n",
       "\n",
       "    .dataframe tbody tr th {\n",
       "        vertical-align: top;\n",
       "    }\n",
       "\n",
       "    .dataframe thead th {\n",
       "        text-align: right;\n",
       "    }\n",
       "</style>\n",
       "<table border=\"1\" class=\"dataframe\">\n",
       "  <thead>\n",
       "    <tr style=\"text-align: right;\">\n",
       "      <th></th>\n",
       "      <th>reason</th>\n",
       "    </tr>\n",
       "  </thead>\n",
       "  <tbody>\n",
       "    <tr>\n",
       "      <th>course</th>\n",
       "      <td>109</td>\n",
       "    </tr>\n",
       "    <tr>\n",
       "      <th>reputation</th>\n",
       "      <td>88</td>\n",
       "    </tr>\n",
       "    <tr>\n",
       "      <th>home</th>\n",
       "      <td>88</td>\n",
       "    </tr>\n",
       "    <tr>\n",
       "      <th>other</th>\n",
       "      <td>30</td>\n",
       "    </tr>\n",
       "  </tbody>\n",
       "</table>\n",
       "</div>"
      ],
      "text/plain": [
       "            reason\n",
       "course         109\n",
       "reputation      88\n",
       "home            88\n",
       "other           30"
      ]
     },
     "execution_count": 66,
     "metadata": {},
     "output_type": "execute_result"
    }
   ],
   "source": [
    "pd.DataFrame(students.reason.value_counts())"
   ]
  },
  {
   "cell_type": "code",
   "execution_count": 67,
   "metadata": {},
   "outputs": [
    {
     "data": {
      "text/html": [
       "<div>\n",
       "<style scoped>\n",
       "    .dataframe tbody tr th:only-of-type {\n",
       "        vertical-align: middle;\n",
       "    }\n",
       "\n",
       "    .dataframe tbody tr th {\n",
       "        vertical-align: top;\n",
       "    }\n",
       "\n",
       "    .dataframe thead th {\n",
       "        text-align: right;\n",
       "    }\n",
       "</style>\n",
       "<table border=\"1\" class=\"dataframe\">\n",
       "  <thead>\n",
       "    <tr style=\"text-align: right;\">\n",
       "      <th></th>\n",
       "      <th>guardian</th>\n",
       "    </tr>\n",
       "  </thead>\n",
       "  <tbody>\n",
       "    <tr>\n",
       "      <th>mother</th>\n",
       "      <td>207</td>\n",
       "    </tr>\n",
       "    <tr>\n",
       "      <th>father</th>\n",
       "      <td>70</td>\n",
       "    </tr>\n",
       "    <tr>\n",
       "      <th>other</th>\n",
       "      <td>24</td>\n",
       "    </tr>\n",
       "  </tbody>\n",
       "</table>\n",
       "</div>"
      ],
      "text/plain": [
       "        guardian\n",
       "mother       207\n",
       "father        70\n",
       "other         24"
      ]
     },
     "execution_count": 67,
     "metadata": {},
     "output_type": "execute_result"
    }
   ],
   "source": [
    "pd.DataFrame(students.guardian.value_counts())"
   ]
  },
  {
   "cell_type": "code",
   "execution_count": 68,
   "metadata": {},
   "outputs": [
    {
     "data": {
      "text/plain": [
       "count    329.000000\n",
       "mean      16.705167\n",
       "std        1.278816\n",
       "min       15.000000\n",
       "25%       16.000000\n",
       "50%       17.000000\n",
       "75%       18.000000\n",
       "max       22.000000\n",
       "Name: age, dtype: float64"
      ]
     },
     "execution_count": 68,
     "metadata": {},
     "output_type": "execute_result"
    },
    {
     "data": {
      "image/png": "[encoded data removed]",
      "text/plain": [
       "<Figure size 432x288 with 1 Axes>"
      ]
     },
     "metadata": {
      "needs_background": "light"
     },
     "output_type": "display_data"
    }
   ],
   "source": [
    "students.age.hist()\n",
    "students.age.describe()"
   ]
  },
  {
   "cell_type": "code",
   "execution_count": 7,
   "metadata": {},
   "outputs": [
    {
     "data": {
      "text/plain": [
       "count    392.000000\n",
       "mean       2.750000\n",
       "std        1.098127\n",
       "min        0.000000\n",
       "25%        2.000000\n",
       "50%        3.000000\n",
       "75%        4.000000\n",
       "max        4.000000\n",
       "Name: Medu, dtype: float64"
      ]
     },
     "execution_count": 7,
     "metadata": {},
     "output_type": "execute_result"
    },
    {
     "data": {
      "image/png": "[encoded data removed]",
      "text/plain": [
       "<Figure size 432x288 with 1 Axes>"
      ]
     },
     "metadata": {
      "needs_background": "light"
     },
     "output_type": "display_data"
    }
   ],
   "source": [
    "students.Medu.hist()\n",
    "students.Medu.describe()"
   ]
  },
  {
   "cell_type": "code",
   "execution_count": 8,
   "metadata": {},
   "outputs": [
    {
     "data": {
      "text/plain": [
       "count    371.000000\n",
       "mean       2.614555\n",
       "std        2.228732\n",
       "min        0.000000\n",
       "25%        2.000000\n",
       "50%        2.000000\n",
       "75%        3.000000\n",
       "max       40.000000\n",
       "Name: Fedu, dtype: float64"
      ]
     },
     "execution_count": 8,
     "metadata": {},
     "output_type": "execute_result"
    },
    {
     "data": {
      "image/png": "[encoded data removed]",
      "text/plain": [
       "<Figure size 432x288 with 1 Axes>"
      ]
     },
     "metadata": {
      "needs_background": "light"
     },
     "output_type": "display_data"
    }
   ],
   "source": [
    "students.Fedu.hist()\n",
    "students.Fedu.describe()"
   ]
  },
  {
   "cell_type": "code",
   "execution_count": 9,
   "metadata": {},
   "outputs": [
    {
     "data": {
      "text/plain": [
       "count    367.000000\n",
       "mean       1.438692\n",
       "std        0.694181\n",
       "min        1.000000\n",
       "25%        1.000000\n",
       "50%        1.000000\n",
       "75%        2.000000\n",
       "max        4.000000\n",
       "Name: traveltime, dtype: float64"
      ]
     },
     "execution_count": 9,
     "metadata": {},
     "output_type": "execute_result"
    },
    {
     "data": {
      "image/png": "[encoded data removed]",
      "text/plain": [
       "<Figure size 432x288 with 1 Axes>"
      ]
     },
     "metadata": {
      "needs_background": "light"
     },
     "output_type": "display_data"
    }
   ],
   "source": [
    "students.traveltime.hist()\n",
    "students.traveltime.describe()"
   ]
  },
  {
   "cell_type": "code",
   "execution_count": 10,
   "metadata": {},
   "outputs": [
    {
     "data": {
      "text/plain": [
       "count    388.000000\n",
       "mean       2.038660\n",
       "std        0.842078\n",
       "min        1.000000\n",
       "25%        1.000000\n",
       "50%        2.000000\n",
       "75%        2.000000\n",
       "max        4.000000\n",
       "Name: studytime, dtype: float64"
      ]
     },
     "execution_count": 10,
     "metadata": {},
     "output_type": "execute_result"
    },
    {
     "data": {
      "image/png": "[encoded data removed]",
      "text/plain": [
       "<Figure size 432x288 with 1 Axes>"
      ]
     },
     "metadata": {
      "needs_background": "light"
     },
     "output_type": "display_data"
    }
   ],
   "source": [
    "students.studytime.hist()\n",
    "students.studytime.describe()"
   ]
  },
  {
   "cell_type": "code",
   "execution_count": 11,
   "metadata": {},
   "outputs": [
    {
     "data": {
      "text/plain": [
       "count    373.000000\n",
       "mean       0.337802\n",
       "std        0.743135\n",
       "min        0.000000\n",
       "25%        0.000000\n",
       "50%        0.000000\n",
       "75%        0.000000\n",
       "max        3.000000\n",
       "Name: failures, dtype: float64"
      ]
     },
     "execution_count": 11,
     "metadata": {},
     "output_type": "execute_result"
    },
    {
     "data": {
      "image/png": "[encoded data removed]",
      "text/plain": [
       "<Figure size 432x288 with 1 Axes>"
      ]
     },
     "metadata": {
      "needs_background": "light"
     },
     "output_type": "display_data"
    }
   ],
   "source": [
    "students.failures.hist()\n",
    "students.failures.describe()"
   ]
  },
  {
   "cell_type": "code",
   "execution_count": 12,
   "metadata": {},
   "outputs": [
    {
     "data": {
      "text/plain": [
       "count    368.000000\n",
       "mean       3.937500\n",
       "std        0.927277\n",
       "min       -1.000000\n",
       "25%        4.000000\n",
       "50%        4.000000\n",
       "75%        5.000000\n",
       "max        5.000000\n",
       "Name: famrel, dtype: float64"
      ]
     },
     "execution_count": 12,
     "metadata": {},
     "output_type": "execute_result"
    },
    {
     "data": {
      "image/png": "[encoded data removed]",
      "text/plain": [
       "<Figure size 432x288 with 1 Axes>"
      ]
     },
     "metadata": {
      "needs_background": "light"
     },
     "output_type": "display_data"
    }
   ],
   "source": [
    "students.famrel.hist()\n",
    "students.famrel.describe()"
   ]
  },
  {
   "cell_type": "code",
   "execution_count": 13,
   "metadata": {},
   "outputs": [
    {
     "data": {
      "text/plain": [
       "count    384.000000\n",
       "mean       3.231771\n",
       "std        0.993940\n",
       "min        1.000000\n",
       "25%        3.000000\n",
       "50%        3.000000\n",
       "75%        4.000000\n",
       "max        5.000000\n",
       "Name: freetime, dtype: float64"
      ]
     },
     "execution_count": 13,
     "metadata": {},
     "output_type": "execute_result"
    },
    {
     "data": {
      "image/png": "[encoded data removed]",
      "text/plain": [
       "<Figure size 432x288 with 1 Axes>"
      ]
     },
     "metadata": {
      "needs_background": "light"
     },
     "output_type": "display_data"
    }
   ],
   "source": [
    "students.freetime.hist()\n",
    "students.freetime.describe()"
   ]
  },
  {
   "cell_type": "code",
   "execution_count": 14,
   "metadata": {},
   "outputs": [
    {
     "data": {
      "text/plain": [
       "count    387.000000\n",
       "mean       3.105943\n",
       "std        1.115896\n",
       "min        1.000000\n",
       "25%        2.000000\n",
       "50%        3.000000\n",
       "75%        4.000000\n",
       "max        5.000000\n",
       "Name: goout, dtype: float64"
      ]
     },
     "execution_count": 14,
     "metadata": {},
     "output_type": "execute_result"
    },
    {
     "data": {
      "image/png": "[encoded data removed]",
      "text/plain": [
       "<Figure size 432x288 with 1 Axes>"
      ]
     },
     "metadata": {
      "needs_background": "light"
     },
     "output_type": "display_data"
    }
   ],
   "source": [
    "students.goout.hist()\n",
    "students.goout.describe()"
   ]
  },
  {
   "cell_type": "code",
   "execution_count": 15,
   "metadata": {},
   "outputs": [
    {
     "data": {
      "text/plain": [
       "count    380.000000\n",
       "mean       3.531579\n",
       "std        1.396019\n",
       "min        1.000000\n",
       "25%        3.000000\n",
       "50%        4.000000\n",
       "75%        5.000000\n",
       "max        5.000000\n",
       "Name: health, dtype: float64"
      ]
     },
     "execution_count": 15,
     "metadata": {},
     "output_type": "execute_result"
    },
    {
     "data": {
      "image/png": "[encoded data removed]",
      "text/plain": [
       "<Figure size 432x288 with 1 Axes>"
      ]
     },
     "metadata": {
      "needs_background": "light"
     },
     "output_type": "display_data"
    }
   ],
   "source": [
    "students.health.hist()\n",
    "students.health.describe()"
   ]
  },
  {
   "cell_type": "code",
   "execution_count": 16,
   "metadata": {},
   "outputs": [
    {
     "data": {
      "text/plain": [
       "count    383.000000\n",
       "mean       7.279373\n",
       "std       23.465197\n",
       "min        0.000000\n",
       "25%        0.000000\n",
       "50%        4.000000\n",
       "75%        8.000000\n",
       "max      385.000000\n",
       "Name: absences, dtype: float64"
      ]
     },
     "execution_count": 16,
     "metadata": {},
     "output_type": "execute_result"
    },
    {
     "data": {
      "image/png": "[encoded data removed]",
      "text/plain": [
       "<Figure size 432x288 with 1 Axes>"
      ]
     },
     "metadata": {
      "needs_background": "light"
     },
     "output_type": "display_data"
    }
   ],
   "source": [
    "students.absences.hist(bins=100)\n",
    "students.absences.describe()"
   ]
  },
  {
   "cell_type": "code",
   "execution_count": 17,
   "metadata": {},
   "outputs": [
    {
     "data": {
      "text/plain": [
       "count    389.000000\n",
       "mean      52.262211\n",
       "std       22.919022\n",
       "min        0.000000\n",
       "25%       40.000000\n",
       "50%       55.000000\n",
       "75%       70.000000\n",
       "max      100.000000\n",
       "Name: score, dtype: float64"
      ]
     },
     "execution_count": 17,
     "metadata": {},
     "output_type": "execute_result"
    },
    {
     "data": {
      "image/png": "[encoded data removed]",
      "text/plain": [
       "<Figure size 432x288 with 1 Axes>"
      ]
     },
     "metadata": {
      "needs_background": "light"
     },
     "output_type": "display_data"
    }
   ],
   "source": [
    "students.score.hist()\n",
    "students.score.describe()"
   ]
  },
  {
   "cell_type": "markdown",
   "metadata": {},
   "source": [
    "### Очистим данные от выбросов"
   ]
  },
  {
   "cell_type": "code",
   "execution_count": 18,
   "metadata": {},
   "outputs": [],
   "source": [
    "# граница выброса определена заданным условием\n",
    "students = students.loc[students.Fedu <= 4]"
   ]
  },
  {
   "cell_type": "code",
   "execution_count": 19,
   "metadata": {},
   "outputs": [
    {
     "data": {
      "text/plain": [
       "count    370.000000\n",
       "mean       2.513514\n",
       "std        1.087540\n",
       "min        0.000000\n",
       "25%        2.000000\n",
       "50%        2.000000\n",
       "75%        3.000000\n",
       "max        4.000000\n",
       "Name: Fedu, dtype: float64"
      ]
     },
     "execution_count": 19,
     "metadata": {},
     "output_type": "execute_result"
    },
    {
     "data": {
      "image/png": "[encoded data removed]",
      "text/plain": [
       "<Figure size 432x288 with 1 Axes>"
      ]
     },
     "metadata": {
      "needs_background": "light"
     },
     "output_type": "display_data"
    }
   ],
   "source": [
    "students.Fedu.hist()\n",
    "students.Fedu.describe()"
   ]
  },
  {
   "cell_type": "code",
   "execution_count": 20,
   "metadata": {},
   "outputs": [],
   "source": [
    "# граница выброса определена заданным условием\n",
    "students = students.loc[students.famrel >= 1]"
   ]
  },
  {
   "cell_type": "code",
   "execution_count": 21,
   "metadata": {},
   "outputs": [
    {
     "data": {
      "text/plain": [
       "count    345.000000\n",
       "mean       3.950725\n",
       "std        0.902455\n",
       "min        1.000000\n",
       "25%        4.000000\n",
       "50%        4.000000\n",
       "75%        5.000000\n",
       "max        5.000000\n",
       "Name: famrel, dtype: float64"
      ]
     },
     "execution_count": 21,
     "metadata": {},
     "output_type": "execute_result"
    },
    {
     "data": {
      "image/png": "[encoded data removed]",
      "text/plain": [
       "<Figure size 432x288 with 1 Axes>"
      ]
     },
     "metadata": {
      "needs_background": "light"
     },
     "output_type": "display_data"
    }
   ],
   "source": [
    "students.famrel.hist()\n",
    "students.famrel.describe()"
   ]
  },
  {
   "cell_type": "code",
   "execution_count": 22,
   "metadata": {},
   "outputs": [],
   "source": [
    "# выбор границы выбросов сделан на основании здравого смысла:)\n",
    "students = students.loc[students.absences < 50]"
   ]
  },
  {
   "cell_type": "code",
   "execution_count": 23,
   "metadata": {},
   "outputs": [
    {
     "data": {
      "text/plain": [
       "count    329.000000\n",
       "mean       5.255319\n",
       "std        6.288431\n",
       "min        0.000000\n",
       "25%        0.000000\n",
       "50%        4.000000\n",
       "75%        8.000000\n",
       "max       40.000000\n",
       "Name: absences, dtype: float64"
      ]
     },
     "execution_count": 23,
     "metadata": {},
     "output_type": "execute_result"
    },
    {
     "data": {
      "image/png": "[encoded data removed]",
      "text/plain": [
       "<Figure size 432x288 with 1 Axes>"
      ]
     },
     "metadata": {
      "needs_background": "light"
     },
     "output_type": "display_data"
    }
   ],
   "source": [
    "students.absences.hist()\n",
    "students.absences.describe()"
   ]
  },
  {
   "cell_type": "markdown",
   "metadata": {},
   "source": [
    "### Представим булевы переменные в числовом виде"
   ]
  },
  {
   "cell_type": "code",
   "execution_count": 24,
   "metadata": {},
   "outputs": [
    {
     "data": {
      "text/plain": [
       "0      1\n",
       "1      0\n",
       "2      1\n",
       "3      0\n",
       "4      0\n",
       "      ..\n",
       "389    0\n",
       "391    0\n",
       "392    1\n",
       "393    0\n",
       "394    1\n",
       "Name: schoolsup, Length: 329, dtype: int64"
      ]
     },
     "execution_count": 24,
     "metadata": {},
     "output_type": "execute_result"
    }
   ],
   "source": [
    "def convert_to_boolean(x): return 0 if x == 'no' else 1\n",
    "\n",
    "\n",
    "students.schoolsup = students.schoolsup.apply(convert_to_boolean)\n",
    "students.schoolsup"
   ]
  },
  {
   "cell_type": "code",
   "execution_count": 25,
   "metadata": {},
   "outputs": [
    {
     "data": {
      "text/plain": [
       "0      0\n",
       "1      1\n",
       "2      0\n",
       "3      1\n",
       "4      1\n",
       "      ..\n",
       "389    0\n",
       "391    0\n",
       "392    0\n",
       "393    0\n",
       "394    0\n",
       "Name: famsup, Length: 329, dtype: int64"
      ]
     },
     "execution_count": 25,
     "metadata": {},
     "output_type": "execute_result"
    }
   ],
   "source": [
    "students.famsup = students.famsup.apply(convert_to_boolean)\n",
    "students.famsup"
   ]
  },
  {
   "cell_type": "code",
   "execution_count": 26,
   "metadata": {},
   "outputs": [
    {
     "data": {
      "text/plain": [
       "0      0\n",
       "1      0\n",
       "2      1\n",
       "3      1\n",
       "4      1\n",
       "      ..\n",
       "389    0\n",
       "391    0\n",
       "392    0\n",
       "393    0\n",
       "394    0\n",
       "Name: paid, Length: 329, dtype: int64"
      ]
     },
     "execution_count": 26,
     "metadata": {},
     "output_type": "execute_result"
    }
   ],
   "source": [
    "students.paid = students.paid.apply(convert_to_boolean)\n",
    "students.paid"
   ]
  },
  {
   "cell_type": "code",
   "execution_count": 27,
   "metadata": {},
   "outputs": [
    {
     "data": {
      "text/plain": [
       "0      0\n",
       "1      0\n",
       "2      0\n",
       "3      1\n",
       "4      0\n",
       "      ..\n",
       "389    1\n",
       "391    0\n",
       "392    0\n",
       "393    1\n",
       "394    0\n",
       "Name: activities, Length: 329, dtype: int64"
      ]
     },
     "execution_count": 27,
     "metadata": {},
     "output_type": "execute_result"
    }
   ],
   "source": [
    "students.activities = students.activities.apply(convert_to_boolean)\n",
    "students.activities"
   ]
  },
  {
   "cell_type": "code",
   "execution_count": 28,
   "metadata": {},
   "outputs": [
    {
     "data": {
      "text/plain": [
       "0      1\n",
       "1      0\n",
       "2      1\n",
       "3      1\n",
       "4      1\n",
       "      ..\n",
       "389    1\n",
       "391    0\n",
       "392    0\n",
       "393    0\n",
       "394    1\n",
       "Name: nursery, Length: 329, dtype: int64"
      ]
     },
     "execution_count": 28,
     "metadata": {},
     "output_type": "execute_result"
    }
   ],
   "source": [
    "students.nursery = students.nursery.apply(convert_to_boolean)\n",
    "students.nursery"
   ]
  },
  {
   "cell_type": "code",
   "execution_count": 29,
   "metadata": {},
   "outputs": [
    {
     "data": {
      "text/plain": [
       "0      1\n",
       "1      1\n",
       "2      1\n",
       "3      1\n",
       "4      1\n",
       "      ..\n",
       "389    1\n",
       "391    1\n",
       "392    1\n",
       "393    1\n",
       "394    1\n",
       "Name: higher, Length: 329, dtype: int64"
      ]
     },
     "execution_count": 29,
     "metadata": {},
     "output_type": "execute_result"
    }
   ],
   "source": [
    "students.higher = students.higher.apply(convert_to_boolean)\n",
    "students.higher"
   ]
  },
  {
   "cell_type": "code",
   "execution_count": 30,
   "metadata": {},
   "outputs": [
    {
     "data": {
      "text/plain": [
       "0      1\n",
       "1      1\n",
       "2      1\n",
       "3      1\n",
       "4      0\n",
       "      ..\n",
       "389    1\n",
       "391    1\n",
       "392    0\n",
       "393    1\n",
       "394    1\n",
       "Name: internet, Length: 329, dtype: int64"
      ]
     },
     "execution_count": 30,
     "metadata": {},
     "output_type": "execute_result"
    }
   ],
   "source": [
    "students.internet = students.internet.apply(convert_to_boolean)\n",
    "students.internet"
   ]
  },
  {
   "cell_type": "code",
   "execution_count": 31,
   "metadata": {},
   "outputs": [
    {
     "data": {
      "text/plain": [
       "0      0\n",
       "1      0\n",
       "2      1\n",
       "3      1\n",
       "4      0\n",
       "      ..\n",
       "389    0\n",
       "391    0\n",
       "392    0\n",
       "393    0\n",
       "394    0\n",
       "Name: romantic, Length: 329, dtype: int64"
      ]
     },
     "execution_count": 31,
     "metadata": {},
     "output_type": "execute_result"
    }
   ],
   "source": [
    "students.romantic = students.romantic.apply(convert_to_boolean)\n",
    "students.romantic"
   ]
  },
  {
   "cell_type": "markdown",
   "metadata": {},
   "source": [
    "### Рассмотрим, какие факторы коррелируют с целевой переменной"
   ]
  },
  {
   "cell_type": "code",
   "execution_count": 32,
   "metadata": {},
   "outputs": [
    {
     "data": {
      "text/html": [
       "<div>\n",
       "<style scoped>\n",
       "    .dataframe tbody tr th:only-of-type {\n",
       "        vertical-align: middle;\n",
       "    }\n",
       "\n",
       "    .dataframe tbody tr th {\n",
       "        vertical-align: top;\n",
       "    }\n",
       "\n",
       "    .dataframe thead th {\n",
       "        text-align: right;\n",
       "    }\n",
       "</style>\n",
       "<table border=\"1\" class=\"dataframe\">\n",
       "  <thead>\n",
       "    <tr style=\"text-align: right;\">\n",
       "      <th></th>\n",
       "      <th>age</th>\n",
       "      <th>Medu</th>\n",
       "      <th>Fedu</th>\n",
       "      <th>traveltime</th>\n",
       "      <th>studytime</th>\n",
       "      <th>failures</th>\n",
       "      <th>schoolsup</th>\n",
       "      <th>famsup</th>\n",
       "      <th>paid</th>\n",
       "      <th>activities</th>\n",
       "      <th>nursery</th>\n",
       "      <th>studytime, granular</th>\n",
       "      <th>higher</th>\n",
       "      <th>internet</th>\n",
       "      <th>romantic</th>\n",
       "      <th>famrel</th>\n",
       "      <th>freetime</th>\n",
       "      <th>goout</th>\n",
       "      <th>health</th>\n",
       "      <th>absences</th>\n",
       "      <th>score</th>\n",
       "    </tr>\n",
       "  </thead>\n",
       "  <tbody>\n",
       "    <tr>\n",
       "      <th>age</th>\n",
       "      <td>1.000000</td>\n",
       "      <td>-0.156119</td>\n",
       "      <td>-0.167994</td>\n",
       "      <td>0.071092</td>\n",
       "      <td>-0.019264</td>\n",
       "      <td>0.223304</td>\n",
       "      <td>-0.213899</td>\n",
       "      <td>-0.142895</td>\n",
       "      <td>-0.072550</td>\n",
       "      <td>-0.123919</td>\n",
       "      <td>-0.097838</td>\n",
       "      <td>0.019264</td>\n",
       "      <td>-0.198817</td>\n",
       "      <td>-0.076535</td>\n",
       "      <td>0.071963</td>\n",
       "      <td>0.052471</td>\n",
       "      <td>0.011412</td>\n",
       "      <td>0.081094</td>\n",
       "      <td>-0.068777</td>\n",
       "      <td>0.184163</td>\n",
       "      <td>-0.140221</td>\n",
       "    </tr>\n",
       "    <tr>\n",
       "      <th>Medu</th>\n",
       "      <td>-0.156119</td>\n",
       "      <td>1.000000</td>\n",
       "      <td>0.649222</td>\n",
       "      <td>-0.182925</td>\n",
       "      <td>0.079209</td>\n",
       "      <td>-0.227180</td>\n",
       "      <td>-0.029757</td>\n",
       "      <td>0.185058</td>\n",
       "      <td>0.151528</td>\n",
       "      <td>0.087631</td>\n",
       "      <td>0.156371</td>\n",
       "      <td>-0.079209</td>\n",
       "      <td>0.157997</td>\n",
       "      <td>0.212415</td>\n",
       "      <td>0.043073</td>\n",
       "      <td>-0.038449</td>\n",
       "      <td>-0.007760</td>\n",
       "      <td>0.065208</td>\n",
       "      <td>-0.086507</td>\n",
       "      <td>0.132686</td>\n",
       "      <td>0.196835</td>\n",
       "    </tr>\n",
       "    <tr>\n",
       "      <th>Fedu</th>\n",
       "      <td>-0.167994</td>\n",
       "      <td>0.649222</td>\n",
       "      <td>1.000000</td>\n",
       "      <td>-0.188914</td>\n",
       "      <td>-0.005429</td>\n",
       "      <td>-0.258676</td>\n",
       "      <td>0.060265</td>\n",
       "      <td>0.177247</td>\n",
       "      <td>0.090545</td>\n",
       "      <td>0.098738</td>\n",
       "      <td>0.127216</td>\n",
       "      <td>0.005429</td>\n",
       "      <td>0.167722</td>\n",
       "      <td>0.154214</td>\n",
       "      <td>0.025217</td>\n",
       "      <td>-0.043031</td>\n",
       "      <td>-0.030394</td>\n",
       "      <td>0.018743</td>\n",
       "      <td>0.009003</td>\n",
       "      <td>0.061455</td>\n",
       "      <td>0.115471</td>\n",
       "    </tr>\n",
       "    <tr>\n",
       "      <th>traveltime</th>\n",
       "      <td>0.071092</td>\n",
       "      <td>-0.182925</td>\n",
       "      <td>-0.188914</td>\n",
       "      <td>1.000000</td>\n",
       "      <td>-0.121020</td>\n",
       "      <td>0.077731</td>\n",
       "      <td>-0.016226</td>\n",
       "      <td>0.048456</td>\n",
       "      <td>-0.009928</td>\n",
       "      <td>0.007024</td>\n",
       "      <td>-0.058690</td>\n",
       "      <td>0.121020</td>\n",
       "      <td>-0.082964</td>\n",
       "      <td>-0.054437</td>\n",
       "      <td>-0.003671</td>\n",
       "      <td>-0.053650</td>\n",
       "      <td>0.007549</td>\n",
       "      <td>0.015018</td>\n",
       "      <td>-0.019926</td>\n",
       "      <td>-0.027909</td>\n",
       "      <td>-0.067086</td>\n",
       "    </tr>\n",
       "    <tr>\n",
       "      <th>studytime</th>\n",
       "      <td>-0.019264</td>\n",
       "      <td>0.079209</td>\n",
       "      <td>-0.005429</td>\n",
       "      <td>-0.121020</td>\n",
       "      <td>1.000000</td>\n",
       "      <td>-0.138974</td>\n",
       "      <td>-0.026847</td>\n",
       "      <td>0.090154</td>\n",
       "      <td>0.127445</td>\n",
       "      <td>0.103554</td>\n",
       "      <td>0.056214</td>\n",
       "      <td>-1.000000</td>\n",
       "      <td>0.146876</td>\n",
       "      <td>0.037057</td>\n",
       "      <td>0.042888</td>\n",
       "      <td>0.022123</td>\n",
       "      <td>-0.130023</td>\n",
       "      <td>-0.060072</td>\n",
       "      <td>-0.091456</td>\n",
       "      <td>-0.063095</td>\n",
       "      <td>0.112451</td>\n",
       "    </tr>\n",
       "    <tr>\n",
       "      <th>failures</th>\n",
       "      <td>0.223304</td>\n",
       "      <td>-0.227180</td>\n",
       "      <td>-0.258676</td>\n",
       "      <td>0.077731</td>\n",
       "      <td>-0.138974</td>\n",
       "      <td>1.000000</td>\n",
       "      <td>0.004349</td>\n",
       "      <td>-0.083098</td>\n",
       "      <td>-0.158542</td>\n",
       "      <td>-0.064842</td>\n",
       "      <td>-0.067102</td>\n",
       "      <td>0.138974</td>\n",
       "      <td>-0.239886</td>\n",
       "      <td>-0.073661</td>\n",
       "      <td>0.055779</td>\n",
       "      <td>0.023639</td>\n",
       "      <td>0.114502</td>\n",
       "      <td>0.094690</td>\n",
       "      <td>0.053909</td>\n",
       "      <td>0.114651</td>\n",
       "      <td>-0.309799</td>\n",
       "    </tr>\n",
       "    <tr>\n",
       "      <th>schoolsup</th>\n",
       "      <td>-0.213899</td>\n",
       "      <td>-0.029757</td>\n",
       "      <td>0.060265</td>\n",
       "      <td>-0.016226</td>\n",
       "      <td>-0.026847</td>\n",
       "      <td>0.004349</td>\n",
       "      <td>1.000000</td>\n",
       "      <td>0.051780</td>\n",
       "      <td>-0.027436</td>\n",
       "      <td>0.062876</td>\n",
       "      <td>0.064071</td>\n",
       "      <td>0.026847</td>\n",
       "      <td>0.051938</td>\n",
       "      <td>-0.084499</td>\n",
       "      <td>-0.042597</td>\n",
       "      <td>-0.026975</td>\n",
       "      <td>-0.074775</td>\n",
       "      <td>-0.011265</td>\n",
       "      <td>-0.042419</td>\n",
       "      <td>0.007058</td>\n",
       "      <td>-0.086954</td>\n",
       "    </tr>\n",
       "    <tr>\n",
       "      <th>famsup</th>\n",
       "      <td>-0.142895</td>\n",
       "      <td>0.185058</td>\n",
       "      <td>0.177247</td>\n",
       "      <td>0.048456</td>\n",
       "      <td>0.090154</td>\n",
       "      <td>-0.083098</td>\n",
       "      <td>0.051780</td>\n",
       "      <td>1.000000</td>\n",
       "      <td>0.267516</td>\n",
       "      <td>-0.050151</td>\n",
       "      <td>0.052672</td>\n",
       "      <td>-0.090154</td>\n",
       "      <td>0.049219</td>\n",
       "      <td>0.060977</td>\n",
       "      <td>-0.014184</td>\n",
       "      <td>-0.007179</td>\n",
       "      <td>0.044228</td>\n",
       "      <td>-0.032035</td>\n",
       "      <td>-0.013627</td>\n",
       "      <td>0.045549</td>\n",
       "      <td>-0.026581</td>\n",
       "    </tr>\n",
       "    <tr>\n",
       "      <th>paid</th>\n",
       "      <td>-0.072550</td>\n",
       "      <td>0.151528</td>\n",
       "      <td>0.090545</td>\n",
       "      <td>-0.009928</td>\n",
       "      <td>0.127445</td>\n",
       "      <td>-0.158542</td>\n",
       "      <td>-0.027436</td>\n",
       "      <td>0.267516</td>\n",
       "      <td>1.000000</td>\n",
       "      <td>0.009918</td>\n",
       "      <td>0.083478</td>\n",
       "      <td>-0.127445</td>\n",
       "      <td>0.127832</td>\n",
       "      <td>0.121717</td>\n",
       "      <td>0.062010</td>\n",
       "      <td>-0.014205</td>\n",
       "      <td>-0.107628</td>\n",
       "      <td>-0.001557</td>\n",
       "      <td>-0.110847</td>\n",
       "      <td>-0.002287</td>\n",
       "      <td>0.098234</td>\n",
       "    </tr>\n",
       "    <tr>\n",
       "      <th>activities</th>\n",
       "      <td>-0.123919</td>\n",
       "      <td>0.087631</td>\n",
       "      <td>0.098738</td>\n",
       "      <td>0.007024</td>\n",
       "      <td>0.103554</td>\n",
       "      <td>-0.064842</td>\n",
       "      <td>0.062876</td>\n",
       "      <td>-0.050151</td>\n",
       "      <td>0.009918</td>\n",
       "      <td>1.000000</td>\n",
       "      <td>-0.034883</td>\n",
       "      <td>-0.103554</td>\n",
       "      <td>0.055080</td>\n",
       "      <td>0.064389</td>\n",
       "      <td>-0.053775</td>\n",
       "      <td>0.036202</td>\n",
       "      <td>0.090614</td>\n",
       "      <td>0.060540</td>\n",
       "      <td>-0.024497</td>\n",
       "      <td>-0.097112</td>\n",
       "      <td>0.011831</td>\n",
       "    </tr>\n",
       "    <tr>\n",
       "      <th>nursery</th>\n",
       "      <td>-0.097838</td>\n",
       "      <td>0.156371</td>\n",
       "      <td>0.127216</td>\n",
       "      <td>-0.058690</td>\n",
       "      <td>0.056214</td>\n",
       "      <td>-0.067102</td>\n",
       "      <td>0.064071</td>\n",
       "      <td>0.052672</td>\n",
       "      <td>0.083478</td>\n",
       "      <td>-0.034883</td>\n",
       "      <td>1.000000</td>\n",
       "      <td>-0.056214</td>\n",
       "      <td>0.072440</td>\n",
       "      <td>0.046267</td>\n",
       "      <td>0.026121</td>\n",
       "      <td>-0.040483</td>\n",
       "      <td>-0.068504</td>\n",
       "      <td>-0.044192</td>\n",
       "      <td>0.004859</td>\n",
       "      <td>0.063888</td>\n",
       "      <td>0.041226</td>\n",
       "    </tr>\n",
       "    <tr>\n",
       "      <th>studytime, granular</th>\n",
       "      <td>0.019264</td>\n",
       "      <td>-0.079209</td>\n",
       "      <td>0.005429</td>\n",
       "      <td>0.121020</td>\n",
       "      <td>-1.000000</td>\n",
       "      <td>0.138974</td>\n",
       "      <td>0.026847</td>\n",
       "      <td>-0.090154</td>\n",
       "      <td>-0.127445</td>\n",
       "      <td>-0.103554</td>\n",
       "      <td>-0.056214</td>\n",
       "      <td>1.000000</td>\n",
       "      <td>-0.146876</td>\n",
       "      <td>-0.037057</td>\n",
       "      <td>-0.042888</td>\n",
       "      <td>-0.022123</td>\n",
       "      <td>0.130023</td>\n",
       "      <td>0.060072</td>\n",
       "      <td>0.091456</td>\n",
       "      <td>0.063095</td>\n",
       "      <td>-0.112451</td>\n",
       "    </tr>\n",
       "    <tr>\n",
       "      <th>higher</th>\n",
       "      <td>-0.198817</td>\n",
       "      <td>0.157997</td>\n",
       "      <td>0.167722</td>\n",
       "      <td>-0.082964</td>\n",
       "      <td>0.146876</td>\n",
       "      <td>-0.239886</td>\n",
       "      <td>0.051938</td>\n",
       "      <td>0.049219</td>\n",
       "      <td>0.127832</td>\n",
       "      <td>0.055080</td>\n",
       "      <td>0.072440</td>\n",
       "      <td>-0.146876</td>\n",
       "      <td>1.000000</td>\n",
       "      <td>0.072275</td>\n",
       "      <td>-0.064679</td>\n",
       "      <td>-0.010316</td>\n",
       "      <td>-0.104603</td>\n",
       "      <td>-0.049037</td>\n",
       "      <td>0.036702</td>\n",
       "      <td>0.018170</td>\n",
       "      <td>0.149100</td>\n",
       "    </tr>\n",
       "    <tr>\n",
       "      <th>internet</th>\n",
       "      <td>-0.076535</td>\n",
       "      <td>0.212415</td>\n",
       "      <td>0.154214</td>\n",
       "      <td>-0.054437</td>\n",
       "      <td>0.037057</td>\n",
       "      <td>-0.073661</td>\n",
       "      <td>-0.084499</td>\n",
       "      <td>0.060977</td>\n",
       "      <td>0.121717</td>\n",
       "      <td>0.064389</td>\n",
       "      <td>0.046267</td>\n",
       "      <td>-0.037057</td>\n",
       "      <td>0.072275</td>\n",
       "      <td>1.000000</td>\n",
       "      <td>0.123696</td>\n",
       "      <td>0.074952</td>\n",
       "      <td>0.100809</td>\n",
       "      <td>0.147752</td>\n",
       "      <td>-0.079294</td>\n",
       "      <td>0.072758</td>\n",
       "      <td>0.040464</td>\n",
       "    </tr>\n",
       "    <tr>\n",
       "      <th>romantic</th>\n",
       "      <td>0.071963</td>\n",
       "      <td>0.043073</td>\n",
       "      <td>0.025217</td>\n",
       "      <td>-0.003671</td>\n",
       "      <td>0.042888</td>\n",
       "      <td>0.055779</td>\n",
       "      <td>-0.042597</td>\n",
       "      <td>-0.014184</td>\n",
       "      <td>0.062010</td>\n",
       "      <td>-0.053775</td>\n",
       "      <td>0.026121</td>\n",
       "      <td>-0.042888</td>\n",
       "      <td>-0.064679</td>\n",
       "      <td>0.123696</td>\n",
       "      <td>1.000000</td>\n",
       "      <td>-0.066063</td>\n",
       "      <td>-0.047203</td>\n",
       "      <td>0.008864</td>\n",
       "      <td>-0.013747</td>\n",
       "      <td>0.150248</td>\n",
       "      <td>-0.048305</td>\n",
       "    </tr>\n",
       "    <tr>\n",
       "      <th>famrel</th>\n",
       "      <td>0.052471</td>\n",
       "      <td>-0.038449</td>\n",
       "      <td>-0.043031</td>\n",
       "      <td>-0.053650</td>\n",
       "      <td>0.022123</td>\n",
       "      <td>0.023639</td>\n",
       "      <td>-0.026975</td>\n",
       "      <td>-0.007179</td>\n",
       "      <td>-0.014205</td>\n",
       "      <td>0.036202</td>\n",
       "      <td>-0.040483</td>\n",
       "      <td>-0.022123</td>\n",
       "      <td>-0.010316</td>\n",
       "      <td>0.074952</td>\n",
       "      <td>-0.066063</td>\n",
       "      <td>1.000000</td>\n",
       "      <td>0.168196</td>\n",
       "      <td>0.081292</td>\n",
       "      <td>0.108720</td>\n",
       "      <td>-0.069495</td>\n",
       "      <td>0.046369</td>\n",
       "    </tr>\n",
       "    <tr>\n",
       "      <th>freetime</th>\n",
       "      <td>0.011412</td>\n",
       "      <td>-0.007760</td>\n",
       "      <td>-0.030394</td>\n",
       "      <td>0.007549</td>\n",
       "      <td>-0.130023</td>\n",
       "      <td>0.114502</td>\n",
       "      <td>-0.074775</td>\n",
       "      <td>0.044228</td>\n",
       "      <td>-0.107628</td>\n",
       "      <td>0.090614</td>\n",
       "      <td>-0.068504</td>\n",
       "      <td>0.130023</td>\n",
       "      <td>-0.104603</td>\n",
       "      <td>0.100809</td>\n",
       "      <td>-0.047203</td>\n",
       "      <td>0.168196</td>\n",
       "      <td>1.000000</td>\n",
       "      <td>0.288267</td>\n",
       "      <td>0.088859</td>\n",
       "      <td>-0.020827</td>\n",
       "      <td>0.016346</td>\n",
       "    </tr>\n",
       "    <tr>\n",
       "      <th>goout</th>\n",
       "      <td>0.081094</td>\n",
       "      <td>0.065208</td>\n",
       "      <td>0.018743</td>\n",
       "      <td>0.015018</td>\n",
       "      <td>-0.060072</td>\n",
       "      <td>0.094690</td>\n",
       "      <td>-0.011265</td>\n",
       "      <td>-0.032035</td>\n",
       "      <td>-0.001557</td>\n",
       "      <td>0.060540</td>\n",
       "      <td>-0.044192</td>\n",
       "      <td>0.060072</td>\n",
       "      <td>-0.049037</td>\n",
       "      <td>0.147752</td>\n",
       "      <td>0.008864</td>\n",
       "      <td>0.081292</td>\n",
       "      <td>0.288267</td>\n",
       "      <td>1.000000</td>\n",
       "      <td>-0.020579</td>\n",
       "      <td>0.063109</td>\n",
       "      <td>-0.142412</td>\n",
       "    </tr>\n",
       "    <tr>\n",
       "      <th>health</th>\n",
       "      <td>-0.068777</td>\n",
       "      <td>-0.086507</td>\n",
       "      <td>0.009003</td>\n",
       "      <td>-0.019926</td>\n",
       "      <td>-0.091456</td>\n",
       "      <td>0.053909</td>\n",
       "      <td>-0.042419</td>\n",
       "      <td>-0.013627</td>\n",
       "      <td>-0.110847</td>\n",
       "      <td>-0.024497</td>\n",
       "      <td>0.004859</td>\n",
       "      <td>0.091456</td>\n",
       "      <td>0.036702</td>\n",
       "      <td>-0.079294</td>\n",
       "      <td>-0.013747</td>\n",
       "      <td>0.108720</td>\n",
       "      <td>0.088859</td>\n",
       "      <td>-0.020579</td>\n",
       "      <td>1.000000</td>\n",
       "      <td>-0.047276</td>\n",
       "      <td>-0.044726</td>\n",
       "    </tr>\n",
       "    <tr>\n",
       "      <th>absences</th>\n",
       "      <td>0.184163</td>\n",
       "      <td>0.132686</td>\n",
       "      <td>0.061455</td>\n",
       "      <td>-0.027909</td>\n",
       "      <td>-0.063095</td>\n",
       "      <td>0.114651</td>\n",
       "      <td>0.007058</td>\n",
       "      <td>0.045549</td>\n",
       "      <td>-0.002287</td>\n",
       "      <td>-0.097112</td>\n",
       "      <td>0.063888</td>\n",
       "      <td>0.063095</td>\n",
       "      <td>0.018170</td>\n",
       "      <td>0.072758</td>\n",
       "      <td>0.150248</td>\n",
       "      <td>-0.069495</td>\n",
       "      <td>-0.020827</td>\n",
       "      <td>0.063109</td>\n",
       "      <td>-0.047276</td>\n",
       "      <td>1.000000</td>\n",
       "      <td>0.081455</td>\n",
       "    </tr>\n",
       "    <tr>\n",
       "      <th>score</th>\n",
       "      <td>-0.140221</td>\n",
       "      <td>0.196835</td>\n",
       "      <td>0.115471</td>\n",
       "      <td>-0.067086</td>\n",
       "      <td>0.112451</td>\n",
       "      <td>-0.309799</td>\n",
       "      <td>-0.086954</td>\n",
       "      <td>-0.026581</td>\n",
       "      <td>0.098234</td>\n",
       "      <td>0.011831</td>\n",
       "      <td>0.041226</td>\n",
       "      <td>-0.112451</td>\n",
       "      <td>0.149100</td>\n",
       "      <td>0.040464</td>\n",
       "      <td>-0.048305</td>\n",
       "      <td>0.046369</td>\n",
       "      <td>0.016346</td>\n",
       "      <td>-0.142412</td>\n",
       "      <td>-0.044726</td>\n",
       "      <td>0.081455</td>\n",
       "      <td>1.000000</td>\n",
       "    </tr>\n",
       "  </tbody>\n",
       "</table>\n",
       "</div>"
      ],
      "text/plain": [
       "                          age      Medu      Fedu  traveltime  studytime  \\\n",
       "age                  1.000000 -0.156119 -0.167994    0.071092  -0.019264   \n",
       "Medu                -0.156119  1.000000  0.649222   -0.182925   0.079209   \n",
       "Fedu                -0.167994  0.649222  1.000000   -0.188914  -0.005429   \n",
       "traveltime           0.071092 -0.182925 -0.188914    1.000000  -0.121020   \n",
       "studytime           -0.019264  0.079209 -0.005429   -0.121020   1.000000   \n",
       "failures             0.223304 -0.227180 -0.258676    0.077731  -0.138974   \n",
       "schoolsup           -0.213899 -0.029757  0.060265   -0.016226  -0.026847   \n",
       "famsup              -0.142895  0.185058  0.177247    0.048456   0.090154   \n",
       "paid                -0.072550  0.151528  0.090545   -0.009928   0.127445   \n",
       "activities          -0.123919  0.087631  0.098738    0.007024   0.103554   \n",
       "nursery             -0.097838  0.156371  0.127216   -0.058690   0.056214   \n",
       "studytime, granular  0.019264 -0.079209  0.005429    0.121020  -1.000000   \n",
       "higher              -0.198817  0.157997  0.167722   -0.082964   0.146876   \n",
       "internet            -0.076535  0.212415  0.154214   -0.054437   0.037057   \n",
       "romantic             0.071963  0.043073  0.025217   -0.003671   0.042888   \n",
       "famrel               0.052471 -0.038449 -0.043031   -0.053650   0.022123   \n",
       "freetime             0.011412 -0.007760 -0.030394    0.007549  -0.130023   \n",
       "goout                0.081094  0.065208  0.018743    0.015018  -0.060072   \n",
       "health              -0.068777 -0.086507  0.009003   -0.019926  -0.091456   \n",
       "absences             0.184163  0.132686  0.061455   -0.027909  -0.063095   \n",
       "score               -0.140221  0.196835  0.115471   -0.067086   0.112451   \n",
       "\n",
       "                     failures  schoolsup    famsup      paid  activities  \\\n",
       "age                  0.223304  -0.213899 -0.142895 -0.072550   -0.123919   \n",
       "Medu                -0.227180  -0.029757  0.185058  0.151528    0.087631   \n",
       "Fedu                -0.258676   0.060265  0.177247  0.090545    0.098738   \n",
       "traveltime           0.077731  -0.016226  0.048456 -0.009928    0.007024   \n",
       "studytime           -0.138974  -0.026847  0.090154  0.127445    0.103554   \n",
       "failures             1.000000   0.004349 -0.083098 -0.158542   -0.064842   \n",
       "schoolsup            0.004349   1.000000  0.051780 -0.027436    0.062876   \n",
       "famsup              -0.083098   0.051780  1.000000  0.267516   -0.050151   \n",
       "paid                -0.158542  -0.027436  0.267516  1.000000    0.009918   \n",
       "activities          -0.064842   0.062876 -0.050151  0.009918    1.000000   \n",
       "nursery             -0.067102   0.064071  0.052672  0.083478   -0.034883   \n",
       "studytime, granular  0.138974   0.026847 -0.090154 -0.127445   -0.103554   \n",
       "higher              -0.239886   0.051938  0.049219  0.127832    0.055080   \n",
       "internet            -0.073661  -0.084499  0.060977  0.121717    0.064389   \n",
       "romantic             0.055779  -0.042597 -0.014184  0.062010   -0.053775   \n",
       "famrel               0.023639  -0.026975 -0.007179 -0.014205    0.036202   \n",
       "freetime             0.114502  -0.074775  0.044228 -0.107628    0.090614   \n",
       "goout                0.094690  -0.011265 -0.032035 -0.001557    0.060540   \n",
       "health               0.053909  -0.042419 -0.013627 -0.110847   -0.024497   \n",
       "absences             0.114651   0.007058  0.045549 -0.002287   -0.097112   \n",
       "score               -0.309799  -0.086954 -0.026581  0.098234    0.011831   \n",
       "\n",
       "                      nursery  studytime, granular    higher  internet  \\\n",
       "age                 -0.097838             0.019264 -0.198817 -0.076535   \n",
       "Medu                 0.156371            -0.079209  0.157997  0.212415   \n",
       "Fedu                 0.127216             0.005429  0.167722  0.154214   \n",
       "traveltime          -0.058690             0.121020 -0.082964 -0.054437   \n",
       "studytime            0.056214            -1.000000  0.146876  0.037057   \n",
       "failures            -0.067102             0.138974 -0.239886 -0.073661   \n",
       "schoolsup            0.064071             0.026847  0.051938 -0.084499   \n",
       "famsup               0.052672            -0.090154  0.049219  0.060977   \n",
       "paid                 0.083478            -0.127445  0.127832  0.121717   \n",
       "activities          -0.034883            -0.103554  0.055080  0.064389   \n",
       "nursery              1.000000            -0.056214  0.072440  0.046267   \n",
       "studytime, granular -0.056214             1.000000 -0.146876 -0.037057   \n",
       "higher               0.072440            -0.146876  1.000000  0.072275   \n",
       "internet             0.046267            -0.037057  0.072275  1.000000   \n",
       "romantic             0.026121            -0.042888 -0.064679  0.123696   \n",
       "famrel              -0.040483            -0.022123 -0.010316  0.074952   \n",
       "freetime            -0.068504             0.130023 -0.104603  0.100809   \n",
       "goout               -0.044192             0.060072 -0.049037  0.147752   \n",
       "health               0.004859             0.091456  0.036702 -0.079294   \n",
       "absences             0.063888             0.063095  0.018170  0.072758   \n",
       "score                0.041226            -0.112451  0.149100  0.040464   \n",
       "\n",
       "                     romantic    famrel  freetime     goout    health  \\\n",
       "age                  0.071963  0.052471  0.011412  0.081094 -0.068777   \n",
       "Medu                 0.043073 -0.038449 -0.007760  0.065208 -0.086507   \n",
       "Fedu                 0.025217 -0.043031 -0.030394  0.018743  0.009003   \n",
       "traveltime          -0.003671 -0.053650  0.007549  0.015018 -0.019926   \n",
       "studytime            0.042888  0.022123 -0.130023 -0.060072 -0.091456   \n",
       "failures             0.055779  0.023639  0.114502  0.094690  0.053909   \n",
       "schoolsup           -0.042597 -0.026975 -0.074775 -0.011265 -0.042419   \n",
       "famsup              -0.014184 -0.007179  0.044228 -0.032035 -0.013627   \n",
       "paid                 0.062010 -0.014205 -0.107628 -0.001557 -0.110847   \n",
       "activities          -0.053775  0.036202  0.090614  0.060540 -0.024497   \n",
       "nursery              0.026121 -0.040483 -0.068504 -0.044192  0.004859   \n",
       "studytime, granular -0.042888 -0.022123  0.130023  0.060072  0.091456   \n",
       "higher              -0.064679 -0.010316 -0.104603 -0.049037  0.036702   \n",
       "internet             0.123696  0.074952  0.100809  0.147752 -0.079294   \n",
       "romantic             1.000000 -0.066063 -0.047203  0.008864 -0.013747   \n",
       "famrel              -0.066063  1.000000  0.168196  0.081292  0.108720   \n",
       "freetime            -0.047203  0.168196  1.000000  0.288267  0.088859   \n",
       "goout                0.008864  0.081292  0.288267  1.000000 -0.020579   \n",
       "health              -0.013747  0.108720  0.088859 -0.020579  1.000000   \n",
       "absences             0.150248 -0.069495 -0.020827  0.063109 -0.047276   \n",
       "score               -0.048305  0.046369  0.016346 -0.142412 -0.044726   \n",
       "\n",
       "                     absences     score  \n",
       "age                  0.184163 -0.140221  \n",
       "Medu                 0.132686  0.196835  \n",
       "Fedu                 0.061455  0.115471  \n",
       "traveltime          -0.027909 -0.067086  \n",
       "studytime           -0.063095  0.112451  \n",
       "failures             0.114651 -0.309799  \n",
       "schoolsup            0.007058 -0.086954  \n",
       "famsup               0.045549 -0.026581  \n",
       "paid                -0.002287  0.098234  \n",
       "activities          -0.097112  0.011831  \n",
       "nursery              0.063888  0.041226  \n",
       "studytime, granular  0.063095 -0.112451  \n",
       "higher               0.018170  0.149100  \n",
       "internet             0.072758  0.040464  \n",
       "romantic             0.150248 -0.048305  \n",
       "famrel              -0.069495  0.046369  \n",
       "freetime            -0.020827  0.016346  \n",
       "goout                0.063109 -0.142412  \n",
       "health              -0.047276 -0.044726  \n",
       "absences             1.000000  0.081455  \n",
       "score                0.081455  1.000000  "
      ]
     },
     "metadata": {},
     "output_type": "display_data"
    }
   ],
   "source": [
    "correlation = students.corr()\n",
    "display(correlation)"
   ]
  },
  {
   "cell_type": "code",
   "execution_count": 33,
   "metadata": {
    "scrolled": false
   },
   "outputs": [
    {
     "data": {
      "text/plain": [
       "<AxesSubplot:>"
      ]
     },
     "execution_count": 33,
     "metadata": {},
     "output_type": "execute_result"
    },
    {
     "data": {
      "image/png": "[encoded data removed]",
      "text/plain": [
       "<Figure size 432x288 with 2 Axes>"
      ]
     },
     "metadata": {
      "needs_background": "light"
     },
     "output_type": "display_data"
    }
   ],
   "source": [
    "sns.heatmap(correlation, cmap='coolwarm')"
   ]
  },
  {
   "cell_type": "markdown",
   "metadata": {},
   "source": [
    "Как видим из таблицы и графика, нет сильно кррелирующих друг с другом переменных (самые коррелирующие переменные Fedu и Medu - 0.649222 оставим), поэтому все характеристики для анализа важны. "
   ]
  },
  {
   "cell_type": "code",
   "execution_count": 44,
   "metadata": {
    "scrolled": true
   },
   "outputs": [
    {
     "data": {
      "text/plain": [
       "score                  1.000000\n",
       "Medu                   0.196835\n",
       "higher                 0.149100\n",
       "Fedu                   0.115471\n",
       "studytime              0.112451\n",
       "paid                   0.098234\n",
       "absences               0.081455\n",
       "famrel                 0.046369\n",
       "nursery                0.041226\n",
       "internet               0.040464\n",
       "freetime               0.016346\n",
       "activities             0.011831\n",
       "famsup                -0.026581\n",
       "health                -0.044726\n",
       "romantic              -0.048305\n",
       "traveltime            -0.067086\n",
       "schoolsup             -0.086954\n",
       "studytime, granular   -0.112451\n",
       "age                   -0.140221\n",
       "goout                 -0.142412\n",
       "failures              -0.309799\n",
       "Name: score, dtype: float64"
      ]
     },
     "metadata": {},
     "output_type": "display_data"
    }
   ],
   "source": [
    "score = correlation.loc['score']\n",
    "sorted_score = score.sort_values(ascending=False)\n",
    "display(sorted_score)"
   ]
  },
  {
   "cell_type": "markdown",
   "metadata": {},
   "source": [
    "### Рассмотрим распределение исследуемого признака по номинативным категориям"
   ]
  },
  {
   "cell_type": "code",
   "execution_count": 35,
   "metadata": {},
   "outputs": [
    {
     "data": {
      "text/plain": [
       "<AxesSubplot:xlabel='school', ylabel='score'>"
      ]
     },
     "execution_count": 35,
     "metadata": {},
     "output_type": "execute_result"
    },
    {
     "data": {
      "image/png": "[encoded data removed]",
      "text/plain": [
       "<Figure size 432x288 with 1 Axes>"
      ]
     },
     "metadata": {
      "needs_background": "light"
     },
     "output_type": "display_data"
    }
   ],
   "source": [
    "sns.boxplot(x='school', y='score', data=students)"
   ]
  },
  {
   "cell_type": "code",
   "execution_count": 36,
   "metadata": {},
   "outputs": [
    {
     "data": {
      "text/plain": [
       "<AxesSubplot:xlabel='famsize', ylabel='score'>"
      ]
     },
     "execution_count": 36,
     "metadata": {},
     "output_type": "execute_result"
    },
    {
     "data": {
      "image/png": "[encoded data removed]",
      "text/plain": [
       "<Figure size 432x288 with 1 Axes>"
      ]
     },
     "metadata": {
      "needs_background": "light"
     },
     "output_type": "display_data"
    }
   ],
   "source": [
    "sns.boxplot(x='famsize', y='score', data=students)"
   ]
  },
  {
   "cell_type": "code",
   "execution_count": 37,
   "metadata": {},
   "outputs": [
    {
     "data": {
      "text/plain": [
       "<AxesSubplot:xlabel='Pstatus', ylabel='score'>"
      ]
     },
     "execution_count": 37,
     "metadata": {},
     "output_type": "execute_result"
    },
    {
     "data": {
      "image/png": "[encoded data removed]",
      "text/plain": [
       "<Figure size 432x288 with 1 Axes>"
      ]
     },
     "metadata": {
      "needs_background": "light"
     },
     "output_type": "display_data"
    }
   ],
   "source": [
    "sns.boxplot(x='Pstatus', y='score', data=students)"
   ]
  },
  {
   "cell_type": "code",
   "execution_count": 38,
   "metadata": {},
   "outputs": [
    {
     "data": {
      "text/plain": [
       "<AxesSubplot:xlabel='Mjob', ylabel='score'>"
      ]
     },
     "execution_count": 38,
     "metadata": {},
     "output_type": "execute_result"
    },
    {
     "data": {
      "image/png": "[encoded data removed]",
      "text/plain": [
       "<Figure size 432x288 with 1 Axes>"
      ]
     },
     "metadata": {
      "needs_background": "light"
     },
     "output_type": "display_data"
    }
   ],
   "source": [
    "sns.boxplot(x='Mjob', y='score', data=students)"
   ]
  },
  {
   "cell_type": "code",
   "execution_count": 39,
   "metadata": {},
   "outputs": [
    {
     "data": {
      "text/plain": [
       "<AxesSubplot:xlabel='Fjob', ylabel='score'>"
      ]
     },
     "execution_count": 39,
     "metadata": {},
     "output_type": "execute_result"
    },
    {
     "data": {
      "image/png": "[encoded data removed]",
      "text/plain": [
       "<Figure size 432x288 with 1 Axes>"
      ]
     },
     "metadata": {
      "needs_background": "light"
     },
     "output_type": "display_data"
    }
   ],
   "source": [
    "sns.boxplot(x='Fjob', y='score', data=students)"
   ]
  },
  {
   "cell_type": "code",
   "execution_count": 40,
   "metadata": {},
   "outputs": [
    {
     "data": {
      "text/plain": [
       "<AxesSubplot:xlabel='reason', ylabel='score'>"
      ]
     },
     "execution_count": 40,
     "metadata": {},
     "output_type": "execute_result"
    },
    {
     "data": {
      "image/png": "[encoded data removed]",
      "text/plain": [
       "<Figure size 432x288 with 1 Axes>"
      ]
     },
     "metadata": {
      "needs_background": "light"
     },
     "output_type": "display_data"
    }
   ],
   "source": [
    "sns.boxplot(x='reason', y='score', data=students)"
   ]
  },
  {
   "cell_type": "code",
   "execution_count": 41,
   "metadata": {},
   "outputs": [
    {
     "data": {
      "text/plain": [
       "<AxesSubplot:xlabel='guardian', ylabel='score'>"
      ]
     },
     "execution_count": 41,
     "metadata": {},
     "output_type": "execute_result"
    },
    {
     "data": {
      "image/png": "[encoded data removed]",
      "text/plain": [
       "<Figure size 432x288 with 1 Axes>"
      ]
     },
     "metadata": {
      "needs_background": "light"
     },
     "output_type": "display_data"
    }
   ],
   "source": [
    "sns.boxplot(x='guardian', y='score', data=students)"
   ]
  },
  {
   "cell_type": "code",
   "execution_count": 59,
   "metadata": {},
   "outputs": [],
   "source": [
    "def get_stat_dif(column):\n",
    "    cols = students.loc[:, column].value_counts()\n",
    "    combinations_all = list(combinations(cols, 2))\n",
    "    for comb in combinations_all:\n",
    "        if ttest_ind(students.loc[students.loc[:, column] == comb[0], 'score'],\n",
    "                     students.loc[students.loc[:, column] == comb[1], 'score']).pvalue \\\n",
    "                <= 0.05/len(combinations_all):  # Учли поправку Бонферони\n",
    "            print('Найдены статистически значимые различия для колонки', column)\n",
    "            break"
   ]
  },
  {
   "cell_type": "code",
   "execution_count": 60,
   "metadata": {},
   "outputs": [],
   "source": [
    "for col in ['school', 'famsize', 'Pstatus', 'Mjob', 'Fjob']:\n",
    "    get_stat_dif(col)"
   ]
  },
  {
   "cell_type": "markdown",
   "metadata": {},
   "source": [
    "По итогам теста Стьюдента статистически значимых различий для номинативных переменных не найдено. "
   ]
  },
  {
   "cell_type": "markdown",
   "metadata": {},
   "source": [
    "### Выводы"
   ]
  },
  {
   "cell_type": "markdown",
   "metadata": {},
   "source": [
    "В результате EDA для анализа влияния условий жизни учащихся в возрасте от 15 до 22 лет на их успеваемость по математике были получены следующие выводы:\n",
    "\n",
    "1. В данных достаточно мало пустых значений, поэтому можно учитывать в анализе все факторы.\n",
    "2. Выбросы найдены ы минимальном количестве. Только в столбцах absences, famrel и Fedu, что позволяет сделать вывод о том, что данные достаточно чистые.\n",
    "3. Самые важные параметры, которые предлагается использовать в дальнейшем для построения модели, это Medu, higher, Fedu, studytime и paid.\n"
   ]
  }
 ],
 "metadata": {
  "kernelspec": {
   "display_name": "Python 3",
   "language": "python",
   "name": "python3"
  },
  "language_info": {
   "codemirror_mode": {
    "name": "ipython",
    "version": 3
   },
   "file_extension": ".py",
   "mimetype": "text/x-python",
   "name": "python",
   "nbconvert_exporter": "python",
   "pygments_lexer": "ipython3",
   "version": "3.8.5"
  }
 },
 "nbformat": 4,
 "nbformat_minor": 4
}
